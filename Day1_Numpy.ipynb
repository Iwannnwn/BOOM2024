{
 "cells": [
  {
   "cell_type": "markdown",
   "metadata": {},
   "source": [
    "# <b> NUMERIC DATA ANALYSIS WITH NUMPY </b>"
   ]
  },
  {
   "cell_type": "code",
   "execution_count": 22,
   "metadata": {},
   "outputs": [],
   "source": [
    "import numpy as np #type: ignore"
   ]
  },
  {
   "cell_type": "code",
   "execution_count": 2,
   "metadata": {},
   "outputs": [
    {
     "name": "stdout",
     "output_type": "stream",
     "text": [
      "[1 2 3 4 5]\n"
     ]
    }
   ],
   "source": [
    "# Membuat Array\n",
    "a = np.array([1, 2, 3, 4, 5])\n",
    "print(a)\n"
   ]
  },
  {
   "cell_type": "code",
   "execution_count": 3,
   "metadata": {},
   "outputs": [
    {
     "name": "stdout",
     "output_type": "stream",
     "text": [
      "[[1 2 3]\n",
      " [4 5 6]]\n"
     ]
    }
   ],
   "source": [
    "# Membuat Array Multi Dimensi\n",
    "b = np.array([[1, 2, 3], [4, 5, 6]])\n",
    "print(b)"
   ]
  },
  {
   "cell_type": "code",
   "execution_count": 4,
   "metadata": {},
   "outputs": [
    {
     "name": "stdout",
     "output_type": "stream",
     "text": [
      "[[0. 0. 0.]\n",
      " [0. 0. 0.]\n",
      " [0. 0. 0.]]\n",
      "==============\n",
      "[[1. 1. 1.]\n",
      " [1. 1. 1.]\n",
      " [1. 1. 1.]]\n"
     ]
    }
   ],
   "source": [
    "# Array dengan value 0 dan 1\n",
    "zeros = np.zeros((3,3))\n",
    "ones = np.ones((3,3))\n",
    "print(zeros)\n",
    "print(\"==============\")\n",
    "print(ones)"
   ]
  },
  {
   "cell_type": "code",
   "execution_count": 5,
   "metadata": {},
   "outputs": [
    {
     "name": "stdout",
     "output_type": "stream",
     "text": [
      "[0 2 4 6 8]\n"
     ]
    }
   ],
   "source": [
    "# Array dengan range\n",
    "range_array = np.arange(0, 10, 2)\n",
    "print(range_array)"
   ]
  },
  {
   "cell_type": "code",
   "execution_count": 6,
   "metadata": {},
   "outputs": [
    {
     "name": "stdout",
     "output_type": "stream",
     "text": [
      "[[0.98996893 0.69281082 0.0224579 ]\n",
      " [0.13552869 0.25134312 0.49127847]\n",
      " [0.58874278 0.29879056 0.46245185]]\n"
     ]
    }
   ],
   "source": [
    "# Array dengan nilai acak\n",
    "random_array = np.random.rand(3,3)\n",
    "print(random_array)"
   ]
  },
  {
   "cell_type": "markdown",
   "metadata": {},
   "source": [
    "# <b>OPERASI DASAR PADA ARRAY</b>"
   ]
  },
  {
   "cell_type": "code",
   "execution_count": 7,
   "metadata": {},
   "outputs": [
    {
     "name": "stdout",
     "output_type": "stream",
     "text": [
      "[5 7 9]\n",
      "[-3 -3 -3]\n",
      "[ 4 10 18]\n",
      "[0.25 0.4  0.5 ]\n",
      "[1 4 9]\n"
     ]
    }
   ],
   "source": [
    "a = np.array([1, 2, 3])\n",
    "b = np.array([4, 5, 6])\n",
    "\n",
    "print(a + b) # Penjumlahan\n",
    "print(a - b) # Pengurangan\n",
    "print(a * b) # Perkalian\n",
    "print(a / b) # Pembagian\n",
    "print(a ** 2) # kuadrat"
   ]
  },
  {
   "cell_type": "code",
   "execution_count": 8,
   "metadata": {},
   "outputs": [
    {
     "name": "stdout",
     "output_type": "stream",
     "text": [
      "3.0\n",
      "3.0\n",
      "1.4142135623730951\n",
      "2.0\n",
      "15\n",
      "1\n",
      "5\n"
     ]
    }
   ],
   "source": [
    "# Operasi Statistik\n",
    "data = np.array([1, 2, 3, 4, 5])\n",
    "\n",
    "print(np.mean(data)) # Rata-rata\n",
    "print(np.median(data)) # Median\n",
    "print(np.std(data)) # Standar Deviasi\n",
    "print(np.var(data)) # Variance\n",
    "print(np.sum(data)) # Jumlah Elemen\n",
    "print(np.min(data)) # Nilai Minimum\n",
    "print(np.max(data)) # Nilai Maksimum"
   ]
  },
  {
   "cell_type": "code",
   "execution_count": 9,
   "metadata": {},
   "outputs": [
    {
     "name": "stdout",
     "output_type": "stream",
     "text": [
      "[[19 22]\n",
      " [43 50]]\n",
      "==============\n",
      "[[1 3]\n",
      " [2 4]]\n",
      "==============\n",
      "[[1 3]\n",
      " [2 4]]\n",
      "==============\n",
      "[[-2.   1. ]\n",
      " [ 1.5 -0.5]]\n"
     ]
    }
   ],
   "source": [
    "# Operasi Matriks\n",
    "A = np.array([[1, 2], [3, 4]])\n",
    "B = np.array([[5, 6], [7, 8]])\n",
    "\n",
    "print(np.dot(A, B)) # Perkalian Matriks\n",
    "print(\"==============\")\n",
    "print(np.transpose(A)) # Transpose Matriks\n",
    "print(\"==============\")\n",
    "print(A. T) # Transpose Matriks\n",
    "print(\"==============\")\n",
    "print(np.linalg.inv(A)) # Invers Matriks"
   ]
  },
  {
   "cell_type": "markdown",
   "metadata": {},
   "source": [
    "# <b>INDEXING, SLICING, DAN ITERASI </b>"
   ]
  },
  {
   "cell_type": "code",
   "execution_count": 10,
   "metadata": {},
   "outputs": [
    {
     "name": "stdout",
     "output_type": "stream",
     "text": [
      "1\n",
      "5\n",
      "[2 3 4]\n"
     ]
    }
   ],
   "source": [
    "# Indexing dan Slicing\n",
    "data = np.array([1, 2, 3, 4, 5])\n",
    "\n",
    "print(data[0]) # Indexing Elemen Pertama\n",
    "print(data[-1]) # Indexing Elemen Terakhir\n",
    "print(data[1:4]) # Subset dari elemen kedua hingga keempat\n"
   ]
  },
  {
   "cell_type": "code",
   "execution_count": 11,
   "metadata": {},
   "outputs": [
    {
     "name": "stdout",
     "output_type": "stream",
     "text": [
      "6\n",
      "[1 4 7]\n",
      "[1 2 3]\n"
     ]
    }
   ],
   "source": [
    "# Indexing array multi dimensi\n",
    "data = np.array([[1, 2, 3], [4, 5, 6], [7, 8, 9]])\n",
    "\n",
    "print(data[1, 2]) # Elemen baris kedua, kolom ketiga\n",
    "print(data[:, 0]) # Semua elemen pada kolom pertama\n",
    "print(data[0, :]) # Semua elemen pada baris pertama"
   ]
  },
  {
   "cell_type": "markdown",
   "metadata": {},
   "source": [
    "# <b>ITERASI PADA ARRAY</b>"
   ]
  },
  {
   "cell_type": "code",
   "execution_count": 12,
   "metadata": {},
   "outputs": [
    {
     "name": "stdout",
     "output_type": "stream",
     "text": [
      "1\n",
      "2\n",
      "3\n",
      "4\n",
      "5\n",
      "6\n",
      "7\n",
      "8\n",
      "9\n"
     ]
    }
   ],
   "source": [
    "for element in data.flat:\n",
    "    print(element)"
   ]
  },
  {
   "cell_type": "markdown",
   "metadata": {},
   "source": [
    "# <b>MENGUBAH BENTUK ARRAY</b>"
   ]
  },
  {
   "cell_type": "code",
   "execution_count": 13,
   "metadata": {},
   "outputs": [
    {
     "name": "stdout",
     "output_type": "stream",
     "text": [
      "[[1 2 3]\n",
      " [4 5 6]]\n"
     ]
    }
   ],
   "source": [
    "# Reshape Array\n",
    "data = np.array([1, 2, 3, 4, 5, 6])\n",
    "reshaped_data = data.reshape(2, 3)\n",
    "print(reshaped_data)"
   ]
  },
  {
   "cell_type": "code",
   "execution_count": 14,
   "metadata": {},
   "outputs": [
    {
     "name": "stdout",
     "output_type": "stream",
     "text": [
      "[1 2 3 4 5 6]\n",
      "[array([1, 2, 3]), array([4, 5, 6])]\n"
     ]
    }
   ],
   "source": [
    "# Menggabungkan dan Memishkan Array\n",
    "data1 = np.array([1, 2, 3])\n",
    "data2 = np.array([4, 5, 6])\n",
    "\n",
    "# Menggabungkan Array\n",
    "combined = np.concatenate((data1, data2))\n",
    "print(combined)\n",
    "\n",
    "# Memisahkan Array\n",
    "split_array = np.array_split(combined, 2)\n",
    "print(split_array)"
   ]
  },
  {
   "cell_type": "markdown",
   "metadata": {},
   "source": [
    "# <b> OPERASI KONDISIONAL </b>"
   ]
  },
  {
   "cell_type": "code",
   "execution_count": 15,
   "metadata": {},
   "outputs": [
    {
     "name": "stdout",
     "output_type": "stream",
     "text": [
      "[4 5 6]\n",
      "[0 0 0 1 1 1]\n"
     ]
    }
   ],
   "source": [
    "data = np.array([1, 2, 3, 4, 5, 6])\n",
    "\n",
    "print(data[data > 3]) # Elemen yang lebih besar dari 3\n",
    "print(np.where(data > 3, 1, 0)) # Mengubah elemen yang lebih besar dari 3 menjadi 1, dan sisanya menjadi 0"
   ]
  },
  {
   "cell_type": "markdown",
   "metadata": {},
   "source": [
    "# <b>NUMPY UNTUK ANALISIS DATA NUMERIK</b>"
   ]
  },
  {
   "cell_type": "code",
   "execution_count": 16,
   "metadata": {},
   "outputs": [
    {
     "name": "stdout",
     "output_type": "stream",
     "text": [
      "Rata-rata Penjualan: 140.0\n",
      "Penjualan tertinggi: 180\n",
      "Penjualan terendah: 100\n",
      "Standar Deviasi Penjualan: 28.284271247461902\n"
     ]
    }
   ],
   "source": [
    "penjualan = np.array([100, 120, 140, 160, 180])\n",
    "\n",
    "# Statistik Dasar\n",
    "print(\"Rata-rata Penjualan:\", np.mean(penjualan))\n",
    "print(\"Penjualan tertinggi:\", np.max(penjualan))\n",
    "print(\"Penjualan terendah:\", np.min(penjualan))\n",
    "print(\"Standar Deviasi Penjualan:\", np.std(penjualan))"
   ]
  },
  {
   "cell_type": "markdown",
   "metadata": {},
   "source": [
    "<b> NORMALISASI DATA </B>"
   ]
  },
  {
   "cell_type": "code",
   "execution_count": 17,
   "metadata": {},
   "outputs": [
    {
     "name": "stdout",
     "output_type": "stream",
     "text": [
      "[0.   0.25 0.5  0.75 1.  ]\n"
     ]
    }
   ],
   "source": [
    "data = np.array([1, 2, 3, 4, 5])\n",
    "\n",
    "# Normalusasi data (nilai antara 0 dan 1)\n",
    "normalized_data = (data - np.min(data)) / (np.max(data) - np.min(data))\n",
    "print(normalized_data)"
   ]
  },
  {
   "cell_type": "markdown",
   "metadata": {},
   "source": [
    "# <b> LATIHAN </b>\n",
    "\n",
    "1. Buat array berisi nilai tinggi siswa, kemudian hitung rata-rata, nilai maksimum, minimum, dan standar deviasi.\n",
    "2. Buat array acak dengan ukuran 10x10, lalu cari nilai maksimum dan minimum di setiap baris.\n",
    "3. Buat matriks 3x3 yang berisi nilai dari 1 hingga 9, kemudian hitung determinan dari matriks tersebut.\n",
    "4. Normalisasikan array yang berisi data penghasilan karyawan agar berada dalam rentang 0 hingga 1."
   ]
  },
  {
   "cell_type": "code",
   "execution_count": 18,
   "metadata": {},
   "outputs": [
    {
     "name": "stdout",
     "output_type": "stream",
     "text": [
      "Rata-rata tinggi siswa: 170.0\n",
      "Nilai maksimum tinggi siswa: 180\n",
      "Nilai minimum tinggi siswa: 160\n",
      "Standar deviasi tinggi siswa: 7.0710678118654755\n"
     ]
    }
   ],
   "source": [
    "# Latihan Nomor 1\n",
    "\n",
    "# Membuat array berisi nilai tinggi siswa\n",
    "tinggi_siswa = np.array([160, 165, 170, 175, 180])\n",
    "\n",
    "# Menghitung rata-rata\n",
    "rata_rata = np.mean(tinggi_siswa)\n",
    "print(\"Rata-rata tinggi siswa:\", rata_rata)\n",
    "\n",
    "# Menghitung nilai maksimum\n",
    "nilai_maksimum = np.max(tinggi_siswa)\n",
    "print(\"Nilai maksimum tinggi siswa:\", nilai_maksimum)\n",
    "\n",
    "# Menghitung nilai minimum\n",
    "nilai_minimum = np.min(tinggi_siswa)\n",
    "print(\"Nilai minimum tinggi siswa:\", nilai_minimum)\n",
    "\n",
    "# Menghitung standar deviasi\n",
    "standar_deviasi = np.std(tinggi_siswa)\n",
    "print(\"Standar deviasi tinggi siswa:\", standar_deviasi)"
   ]
  },
  {
   "cell_type": "code",
   "execution_count": 19,
   "metadata": {},
   "outputs": [
    {
     "name": "stdout",
     "output_type": "stream",
     "text": [
      "Array Acak 10x10:\n",
      " [[8.96786342e-01 5.36849553e-01 9.99690172e-01 8.16401745e-01\n",
      "  9.79408089e-01 1.92190122e-01 6.22138090e-04 5.14986909e-03\n",
      "  5.07554246e-02 6.24626636e-01]\n",
      " [6.68835913e-02 5.40012269e-01 6.15823502e-01 2.89981655e-01\n",
      "  5.26746748e-01 7.44080426e-01 1.08206793e-01 4.03484194e-01\n",
      "  6.65816588e-02 2.89499116e-01]\n",
      " [9.01057148e-01 2.38792265e-01 2.12620342e-01 4.23869998e-01\n",
      "  3.98249333e-01 2.45561055e-01 5.13155051e-01 7.17495227e-01\n",
      "  8.64672056e-01 1.75602685e-01]\n",
      " [7.64286119e-01 2.46615065e-01 5.54317734e-01 4.72059355e-01\n",
      "  3.92468252e-01 5.08665905e-02 9.05053939e-01 9.80543280e-01\n",
      "  4.55822125e-01 7.51497682e-01]\n",
      " [4.67793448e-01 7.79826925e-01 2.62740453e-01 7.44700560e-01\n",
      "  6.80660439e-01 1.71698952e-01 4.70886405e-01 6.94737403e-01\n",
      "  1.15574329e-01 2.27139990e-01]\n",
      " [1.06356798e-02 1.82107803e-01 3.82938155e-01 3.63800584e-02\n",
      "  5.56501605e-02 1.41080414e-01 1.44756163e-01 7.35795943e-01\n",
      "  6.39809080e-01 5.13741469e-01]\n",
      " [3.11088692e-01 5.78125417e-01 7.23576573e-01 7.43274935e-01\n",
      "  9.86061460e-01 4.38558998e-01 6.86843432e-01 3.47126155e-02\n",
      "  1.91327954e-01 6.11186848e-01]\n",
      " [3.22510023e-01 9.65274105e-01 4.66422339e-01 2.43182500e-01\n",
      "  2.28305821e-02 9.59288699e-01 3.36743508e-01 2.27513969e-01\n",
      "  7.53358729e-01 8.13901792e-01]\n",
      " [8.69237914e-01 7.68618334e-01 2.37700613e-01 6.59093584e-01\n",
      "  5.54247381e-01 7.02715686e-01 6.40114954e-01 3.34746613e-01\n",
      "  9.84447890e-01 7.37556818e-02]\n",
      " [4.80193580e-01 1.98225676e-01 9.68686402e-01 8.61284033e-01\n",
      "  5.61000117e-01 4.16892953e-01 3.77820400e-01 8.90111002e-01\n",
      "  7.57813788e-01 6.86547239e-01]]\n",
      "Nilai maksimum di setiap baris:\n",
      " [0.99969017 0.74408043 0.90105715 0.98054328 0.77982693 0.73579594\n",
      " 0.98606146 0.96527411 0.98444789 0.9686864 ]\n",
      "Nilai minimum di setiap baris:\n",
      " [0.00062214 0.06658166 0.17560268 0.05086659 0.11557433 0.01063568\n",
      " 0.03471262 0.02283058 0.07375568 0.19822568]\n"
     ]
    }
   ],
   "source": [
    "# Latihan Nomor 2\n",
    "\n",
    "# Membuat array acak dengan ukuran 10x10\n",
    "array_acak = np.random.rand(10, 10)\n",
    "\n",
    "# Mencari nilai maksimum dan minimum di setiap baris\n",
    "nilai_maksimum_per_baris = np.max(array_acak, axis=1)\n",
    "nilai_minimum_per_baris = np.min(array_acak, axis=1)\n",
    "\n",
    "print(\"Array Acak 10x10:\\n\", array_acak)\n",
    "print(\"Nilai maksimum di setiap baris:\\n\", nilai_maksimum_per_baris)\n",
    "print(\"Nilai minimum di setiap baris:\\n\", nilai_minimum_per_baris)"
   ]
  },
  {
   "cell_type": "code",
   "execution_count": 20,
   "metadata": {},
   "outputs": [
    {
     "name": "stdout",
     "output_type": "stream",
     "text": [
      "Determinan Matriks A: 0.0\n"
     ]
    }
   ],
   "source": [
    "# Latihan Nomor 3\n",
    "\n",
    "A = [[1,2,3],\n",
    "     [4,5,6],\n",
    "     [7,8,9]]\n",
    "\n",
    "# Determinan Matriks A\n",
    "determinan = np.linalg.det(A)\n",
    "\n",
    "print(\"Determinan Matriks A:\", determinan)"
   ]
  },
  {
   "cell_type": "code",
   "execution_count": 21,
   "metadata": {},
   "outputs": [],
   "source": [
    "# Latihan Nomor 4\n"
   ]
  }
 ],
 "metadata": {
  "kernelspec": {
   "display_name": "Python 3",
   "language": "python",
   "name": "python3"
  },
  "language_info": {
   "codemirror_mode": {
    "name": "ipython",
    "version": 3
   },
   "file_extension": ".py",
   "mimetype": "text/x-python",
   "name": "python",
   "nbconvert_exporter": "python",
   "pygments_lexer": "ipython3",
   "version": "3.11.4"
  }
 },
 "nbformat": 4,
 "nbformat_minor": 2
}
