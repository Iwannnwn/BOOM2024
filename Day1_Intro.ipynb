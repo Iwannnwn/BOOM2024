{
 "cells": [
  {
   "cell_type": "code",
   "execution_count": 1,
   "metadata": {},
   "outputs": [],
   "source": [
    "import pandas as pd # type: ignore\n",
    "import numpy as np # type: ignore\n",
    "import matplotlib.pyplot as plt # type: ignore\n",
    "import seaborn as sns # type: ignore"
   ]
  },
  {
   "cell_type": "markdown",
   "metadata": {},
   "source": [
    "# <b>BOOM 2024 (Day 1 - Introduction Python for Data Analysis)</b>\n",
    "\n",
    "Python open source sehingga leih banyak digunakan dalam industri. High level dan mudah digunakan. Paling dekat dengan bahasa manusia. DIbuat oleh Guido van Rossum 1991. Support banyak library, sehingga sangat bisa untuk digunakan dalam data science. Buat apa aja : Data analysis, Web Development, automation, scripting, Scientic and numeric. \n",
    "\n",
    "Kenapa menggunakan python untuk data analysis :\n",
    "1. Fleksibel\n",
    "2. Comprehensive\n",
    "3. Strong Community Support\n",
    "4. Cross-industry application\n",
    "\n",
    "Library banyak dipakai : Numpy, pandas, Matplotlib, Seaborn,Sckit-learn. Tujuan data analysis : Cleaning data, Transforming data dan Intrepeting data (Data Visualisasi) "
   ]
  },
  {
   "cell_type": "code",
   "execution_count": 2,
   "metadata": {},
   "outputs": [
    {
     "name": "stdout",
     "output_type": "stream",
     "text": [
      "Hello World!\n"
     ]
    }
   ],
   "source": [
    "# Ini adaa komentar (single line)\n",
    "print(\"Hello World!\")"
   ]
  },
  {
   "cell_type": "code",
   "execution_count": 3,
   "metadata": {},
   "outputs": [
    {
     "data": {
      "text/plain": [
       "'\\nIni Adalah Multi Line Comment \\nIni Adalah Multi Line Comment\\n'"
      ]
     },
     "execution_count": 3,
     "metadata": {},
     "output_type": "execute_result"
    }
   ],
   "source": [
    "\"\"\"\n",
    "Ini Adalah Multi Line Comment \n",
    "Ini Adalah Multi Line Comment\n",
    "\"\"\""
   ]
  },
  {
   "cell_type": "code",
   "execution_count": 4,
   "metadata": {},
   "outputs": [
    {
     "name": "stdout",
     "output_type": "stream",
     "text": [
      "Ini adalah fungsi sederhana\n"
     ]
    }
   ],
   "source": [
    "# Indentansi python, apakah menjorok ke kanan ke kiri ini penting agar tidak error\n",
    "def fungsi_sederhana():\n",
    "    print(\"Ini adalah fungsi sederhana\") #indentansi spasi ke kanan\n",
    "\n",
    "fungsi_sederhana()"
   ]
  },
  {
   "cell_type": "code",
   "execution_count": 5,
   "metadata": {},
   "outputs": [
    {
     "name": "stdout",
     "output_type": "stream",
     "text": [
      "15\n"
     ]
    }
   ],
   "source": [
    "# Aturan spasi : Antar variable atau opertor harus ada spasi agar mudah dibaca\n",
    "x = 1 + 2 # Spasi antar operator\n",
    "y = 3 * 4\n",
    "print (x + y) "
   ]
  },
  {
   "cell_type": "markdown",
   "metadata": {},
   "source": [
    "# <b>VARIABLE</b>\n",
    "RULES :\n",
    "1. Nama harus dimulai dengan huruf atau garis bawah\n",
    "2. Tidak boleh dimuai dengan angka\n",
    "3. Tidak boleh menggunakan spasi, sebaiknya gunakan tanda underscore _ untuk pemisah\n",
    "4. Nama variable bersifat case-sensitive (Membedakan huruf besar dan kecil), jadi Nama dan nama adalah dua variable yang berbeda"
   ]
  },
  {
   "cell_type": "code",
   "execution_count": 6,
   "metadata": {},
   "outputs": [
    {
     "name": "stdout",
     "output_type": "stream",
     "text": [
      "Hacktiv8\n"
     ]
    }
   ],
   "source": [
    "nama_event = \"Hacktiv8\" # Ini variable bernama nama_event\n",
    "print(nama_event)"
   ]
  },
  {
   "cell_type": "code",
   "execution_count": 7,
   "metadata": {},
   "outputs": [
    {
     "data": {
      "text/plain": [
       "'Hacktiv8'"
      ]
     },
     "execution_count": 7,
     "metadata": {},
     "output_type": "execute_result"
    }
   ],
   "source": [
    "nama_event # Ini Memanggil Value dari variable nama_event\n"
   ]
  },
  {
   "cell_type": "markdown",
   "metadata": {},
   "source": [
    "# <b>TIPE DATA</b>\n",
    "<b>Tipe data dasar :</b> integer (int), Float (float), String (str), Boolean (bool) <br>\n",
    "<b>Tipe data kompleks : </b>\n",
    "1. List : Struktur data yang bisa menyimpan beberapa nilai dalam satu variable. List bersifat <b>mutable</b>, artinya nilainya bisa diubah. List ditandai dengan tanda kurung siku [].\n",
    "2. Tuple : Mirip dengan list, tetapi bersifat <b>Immutable</b> (Tidak bisa diubah). Tuple ditandai dengan tanda kurung biasa ().\n",
    "3. Set : Set adalah kumpulan <b>elemen yang unik</b> (tidak ada elemen yang sama). Set ditandai dengan tanda kurung kurawal {}.\n",
    "4. Dictionary : Dictionary adalah kumpulan data yang menimpan pasangan <b>key_value</b>. Dictionary ditandai dengan tanda kurung kurung kurawal {} dengan format key: value. Dictionary bisa lebih dari satu dengan menuliskan {{Dict},{Dict}}<br>\n",
    "\n",
    "<b>Tipe data khusus : </b>\n",
    "1. NoneType : Tipe data NoneType adalah tipe data khusus dalam Python yang hanya memiliki satu nilai, yaitu None. Nilai None sering digunakan untuk merepresentasikan ketiadaan nilai atau nilai yang tidak diketahui. Ini mirip dengan konsep null dalam bahasa pemrograman lain.\n",
    "\n"
   ]
  },
  {
   "cell_type": "code",
   "execution_count": 8,
   "metadata": {},
   "outputs": [
    {
     "name": "stdout",
     "output_type": "stream",
     "text": [
      "AKU\n",
      "Syifa'ul 25\n",
      "None\n"
     ]
    }
   ],
   "source": [
    "# Ini Tipe Data Dasar\n",
    "_angka = 10 #Integer\n",
    "_angka2 = 10.5 #Float\n",
    "_angka3 = \"Syifa'ul\" #String\n",
    "_angka4 = True #Boolean\n",
    "\n",
    "# Ini Tipe Data Kompleks\n",
    "list_1 = [1, \"AKU\", 3.14, True] #List\n",
    "print(list_1[1])\n",
    "tuple_1 = (1, \"AKU\", 3.14, True) #Tuple\n",
    "set_1 = {1, \"AKU\", 3.14, True} #Set\n",
    "dict_1 = {\"nama\": \"Syifa'ul\", \"umur\": 25, \"status\": True}#{\"nama\" : \"Nanda\", \"umur\" : 24, \"status\" : False}} #Dictionary\n",
    "print(dict_1[\"nama\"], dict_1[\"umur\"])\n",
    "\n",
    "# Ini Tipe Data Khusus\n",
    "none_type = None # NoneType\n",
    "print(none_type)"
   ]
  },
  {
   "cell_type": "markdown",
   "metadata": {},
   "source": [
    "# <b>PERULANGAN</b>\n",
    "\n",
    "\n",
    "\n",
    "```\n",
    "In this example, the code inside the `while` loop will always execute at least once, and then it will continue to execute as long as the condition (`count < 5`) is true.\n",
    "\n",
    "```\n",
    "        break\n",
    "    if count >= 5:\n",
    "    count += 1\n",
    "    print(count)\n",
    "while True:\n",
    "count = 0\n",
    "```python\n",
    "\n",
    "### Example\n",
    "\n",
    "Python does not have a built-in `do while` loop like some other programming languages. However, you can mimic a `do while` loop using a `while` loop with a `break` statement.\n",
    "\n",
    "## `do while` Loop\n",
    "\n",
    "```\n",
    "    count += 1\n",
    "    print(count)\n",
    "while count < 5:\n",
    "count = 0\n",
    "```python\n",
    "\n",
    "Let's use a simple counter:\n",
    "\n",
    "### Example\n",
    "\n",
    "```\n",
    "    # code to execute while the condition is true\n",
    "while condition:\n",
    "```python\n",
    "\n",
    "### Syntax\n",
    "\n",
    "The `while` loop in Python is used to repeatedly execute a block of code as long as a given condition is true.\n",
    "\n",
    "## `while` Loop```markdown"
   ]
  }
 ],
 "metadata": {
  "kernelspec": {
   "display_name": "Python 3",
   "language": "python",
   "name": "python3"
  },
  "language_info": {
   "codemirror_mode": {
    "name": "ipython",
    "version": 3
   },
   "file_extension": ".py",
   "mimetype": "text/x-python",
   "name": "python",
   "nbconvert_exporter": "python",
   "pygments_lexer": "ipython3",
   "version": "3.11.4"
  }
 },
 "nbformat": 4,
 "nbformat_minor": 2
}
