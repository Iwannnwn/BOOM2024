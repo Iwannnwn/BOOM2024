{
 "cells": [
  {
   "cell_type": "markdown",
   "metadata": {},
   "source": [
    "# <b> DATA ANALYSIS USING DASH IN PYTHON </b>"
   ]
  },
  {
   "cell_type": "code",
   "execution_count": 16,
   "metadata": {},
   "outputs": [
    {
     "data": {
      "text/html": [
       "\n",
       "        <iframe\n",
       "            width=\"100%\"\n",
       "            height=\"650\"\n",
       "            src=\"http://127.0.0.1:8053/\"\n",
       "            frameborder=\"0\"\n",
       "            allowfullscreen\n",
       "            \n",
       "        ></iframe>\n",
       "        "
      ],
      "text/plain": [
       "<IPython.lib.display.IFrame at 0x182969c8ad0>"
      ]
     },
     "metadata": {},
     "output_type": "display_data"
    }
   ],
   "source": [
    "import dash\n",
    "from dash import dash,html\n",
    "\n",
    "app = dash.Dash(__name__)\n",
    "\n",
    "app.layout = html.Div(children='Hello Dash')\n",
    "\n",
    "if __name__ == '__main__':\n",
    "    app.run_server(debug=True, port=8053)"
   ]
  },
  {
   "cell_type": "code",
   "execution_count": null,
   "metadata": {},
   "outputs": [
    {
     "data": {
      "text/html": [
       "\n",
       "        <iframe\n",
       "            width=\"100%\"\n",
       "            height=\"650\"\n",
       "            src=\"http://127.0.0.1:8054/\"\n",
       "            frameborder=\"0\"\n",
       "            allowfullscreen\n",
       "            \n",
       "        ></iframe>\n",
       "        "
      ],
      "text/plain": [
       "<IPython.lib.display.IFrame at 0x18296450f90>"
      ]
     },
     "metadata": {},
     "output_type": "display_data"
    }
   ],
   "source": [
    "from dash import dcc, html\n",
    "from dash.dependencies import Input, Output\n",
    "import plotly.graph_objs as go\n",
    "\n",
    "# Inisialisasi Aplikasi Dash\n",
    "app = dash.Dash(__name__)\n",
    "\n",
    "# Layout dari aplikasi\n",
    "app.layout = html.Div([\n",
    "    html.H1('Aplikasi Dash Sederhana'),\n",
    "    dcc.Graph(\n",
    "        id = 'line-graph',\n",
    "        figure = {\n",
    "            'data' : [\n",
    "                go.Scatter(x = [1,2,3,4,5],y = [10,15,12,17,14], mode='lines', name = 'Data')\n",
    "            ],\n",
    "            'layout' : go.Layout(title = 'Grafik Garis Sederhana')\n",
    "        }\n",
    "    )\n",
    "])\n",
    "\n",
    "# Menjalankan aplikasi\n",
    "if __name__ == '__main__':\n",
    "    app.run_server(debug=True, port=8054)"
   ]
  },
  {
   "cell_type": "code",
   "execution_count": null,
   "metadata": {},
   "outputs": [
    {
     "data": {
      "text/html": [
       "\n",
       "        <iframe\n",
       "            width=\"100%\"\n",
       "            height=\"650\"\n",
       "            src=\"http://127.0.0.1:8059/\"\n",
       "            frameborder=\"0\"\n",
       "            allowfullscreen\n",
       "            \n",
       "        ></iframe>\n",
       "        "
      ],
      "text/plain": [
       "<IPython.lib.display.IFrame at 0x182a05e5350>"
      ]
     },
     "metadata": {},
     "output_type": "display_data"
    }
   ],
   "source": [
    "import dash\n",
    "from dash import dcc, html\n",
    "from dash.dependencies import Input, Output\n",
    "import pandas as pd\n",
    "import plotly.express as px\n",
    "\n",
    "# Membuat contoh data\n",
    "data = pd.DataFrame({\n",
    "    \"Year\" : [2018, 2019, 2020, 2021, 2022, 2023],\n",
    "    \"Value\" : [100, 200, 300, 400, 500, 600]\n",
    "})\n",
    "\n",
    "# Inisialisasi Aplikasi Dash\n",
    "app = dash.Dash(__name__)\n",
    "\n",
    "# Layout dari aplikasi dengan dropdown tambahan\n",
    "app.layout = html.Div([\n",
    "    html.H1(\"Aplikasi Data Interaktif\"),\n",
    "    dcc.Dropdown(\n",
    "        id='column-dropdown',\n",
    "        options=[{'label' : 'Value', 'value' : 'Value'}],\n",
    "        value='Value'\n",
    "    ),\n",
    "    dcc.Slider(\n",
    "        id='year-slider',\n",
    "        min=data['Year'].min(),\n",
    "        max=data['Year'].max(),\n",
    "        value=data['Year'].min(),\n",
    "        marks={str(year) : str(year) for year in data['Year'].unique()},\n",
    "        step=None\n",
    "    ),\n",
    "    dcc.Graph(id='updated-graph')\n",
    "])\n",
    "\n",
    "# Callback untuk memperbaharui grafik\n",
    "@app.callback(\n",
    "    Output('updated-graph', 'figure'),\n",
    "    [Input('year-slider', 'value'),Input('column-dropdown', 'value')]\n",
    ")\n",
    "\n",
    "def update_graph(selected_year, selected_column):\n",
    "    filtered_data = data[data['Year'] <= selected_year]\n",
    "    fig = px.bar(filtered_data, x='Year', y=selected_column, title='Data Berdasarkan Pilihan')\n",
    "    return fig\n",
    "\n",
    "# Menjalankan aplikasi\n",
    "if __name__ == '__main__':\n",
    "    app.run_server(debug=True, port=8059) # Port Terakhir Digunakan 8059"
   ]
  }
 ],
 "metadata": {
  "language_info": {
   "name": "python"
  }
 },
 "nbformat": 4,
 "nbformat_minor": 2
}
